{
 "cells": [
  {
   "cell_type": "markdown",
   "id": "3f465500",
   "metadata": {},
   "source": [
    "# Project 2, Part 7, Analysis on continuing to withhold customer data from 3rd parties\n",
    "\n",
    "University of California, Berkeley\n",
    "\n",
    "Master of Information and Data Science (MIDS) program\n",
    "\n",
    "w205 - Fundamentals of Data Engineering\n"
   ]
  },
  {
   "cell_type": "markdown",
   "id": "1cf92eab",
   "metadata": {},
   "source": [
    "# 2.7 Analysis on continuing to withhold customer data from 3rd parties\n",
    "\n",
    "As stated in the scenario, like most companies, AGM does not want to give out its customer list to 3rd party sales channels.  The downside is, as we have seen, that customer first names, last names, and street addresses will have some variations and not be exact matches.\n",
    "\n",
    "The data science team would like your analysis of both options:\n",
    "\n",
    "1)  Continue to withhold the customer data from 3rd party sales channels\n",
    "\n",
    "2)  Give customer data to 3rd party sales channels\n",
    "\n",
    "The data science team would also like your recommendation on which option you think is best.\n",
    "\n",
    "In the markdown cell:\n",
    "* Write a paragraph of 3 to 10 sentences for 1.\n",
    "* Write a paragraph of 3 to 10 sentences for 2.\n",
    "* Write a paragraph of 3 to 10 sentences with your recommendation.\n",
    "\n",
    "You are not required to write any queries nor any code nor create any data visualizations.  Simply provide English text.\n"
   ]
  },
  {
   "cell_type": "markdown",
   "id": "0421961c",
   "metadata": {},
   "source": [
    "## Analysis on continuing to withhold customer data from 3rd parties.\n",
    "\n",
    "### 1. Analysis on option 1 - Continue to withhold the customer data from 3rd party sales channels.\n",
    "The Customer database is one of the most valuable assets of a company. Releasing customer data to the 3rd party sales channel weakens a company's competitive advantage. It will also increase the security risks and leak the customer data to malicious hackers. In addition, without the customer's consent, it may violate the law and trust of the customers. \n",
    "\n",
    "### 2. Analysis on option 2 - Give customer data to 3rd party sales channels.\n",
    "Without releasing customer data to the 3rd party sales channels, we create a complex problem of data inconsistency. As we see in our project, two systems will have different data variations of the same customer. We must create complicated queries and coding to remedy the problem. For an extensive amount of data, it is challenging to guarantee that we have done it accurately. Data duplication will cause erroneous reporting and wrong query results. \n",
    "\n",
    "### 3. Recommendation on best option.\n",
    "Although the challenge of data inconsistency issue, I recommend the first option of keeping the customer data from the 3rd party sales channels. Protecting the customer database, trust, and privacy should be the company's top priority. Also, we must be cautious not to violate laws such as California Consumer Privacy Act (CCPA) while sharing or disclosing customers' personal information with another business. With the advancement of AI and machine learning, we can apply many tools to help match customer records and clean the data.   \n",
    "\n",
    "\n",
    " \n",
    "##### References: \n",
    "- https://knowledge.wharton.upenn.edu/article/data-shared-sold-whats-done/  \n",
    "- https://satoricyber.com/data-protect-guide/data-sharing-and-third-parties/  \n",
    "- https://www.validity.com/blog/third-parties-and-the-california-consumer-privacy-act-ccpa/  "
   ]
  },
  {
   "cell_type": "code",
   "execution_count": null,
   "id": "0d2d32d2",
   "metadata": {},
   "outputs": [],
   "source": []
  }
 ],
 "metadata": {
  "kernelspec": {
   "display_name": "Python 3",
   "language": "python",
   "name": "python3"
  },
  "language_info": {
   "codemirror_mode": {
    "name": "ipython",
    "version": 3
   },
   "file_extension": ".py",
   "mimetype": "text/x-python",
   "name": "python",
   "nbconvert_exporter": "python",
   "pygments_lexer": "ipython3",
   "version": "3.8.8"
  }
 },
 "nbformat": 4,
 "nbformat_minor": 5
}
